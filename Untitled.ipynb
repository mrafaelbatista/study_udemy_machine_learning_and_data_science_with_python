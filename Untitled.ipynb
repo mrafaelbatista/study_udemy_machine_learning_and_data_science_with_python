{
 "cells": [
  {
   "cell_type": "code",
   "execution_count": 2,
   "metadata": {},
   "outputs": [],
   "source": [
    "%matplotlib inline\n",
    "import matplotlib.pyplot as plt\n",
    "import pandas as pd\n",
    "import seaborn\n",
    "import pydataset"
   ]
  },
  {
   "cell_type": "code",
   "execution_count": 4,
   "metadata": {},
   "outputs": [
    {
     "name": "stdout",
     "output_type": "stream",
     "text": [
      "AirPassengers\n",
      "\n",
      "PyDataset Documentation (adopted from R Documentation. The displayed examples are in R)\n",
      "\n",
      "## Monthly Airline Passenger Numbers 1949-1960\n",
      "\n",
      "### Description\n",
      "\n",
      "The classic Box & Jenkins airline data. Monthly totals of international\n",
      "airline passengers, 1949 to 1960.\n",
      "\n",
      "### Usage\n",
      "\n",
      "    AirPassengers\n",
      "\n",
      "### Format\n",
      "\n",
      "A monthly time series, in thousands.\n",
      "\n",
      "### Source\n",
      "\n",
      "Box, G. E. P., Jenkins, G. M. and Reinsel, G. C. (1976) _Time Series Analysis,\n",
      "Forecasting and Control._ Third Edition. Holden-Day. Series G.\n",
      "\n",
      "### Examples\n",
      "\n",
      "    ## Not run: \n",
      "    ## These are quite slow and so not run by example(AirPassengers)\n",
      "    ## The classic 'airline model', by full ML\n",
      "    (fit <- arima(log10(AirPassengers), c(0, 1, 1),\n",
      "                  seasonal = list(order = c(0, 1, 1), period = 12)))\n",
      "    update(fit, method = \"CSS\")\n",
      "    update(fit, x = window(log10(AirPassengers), start = 1954))\n",
      "    pred <- predict(fit, n.ahead = 24)\n",
      "    tl <- pred$pred - 1.96 * pred$se\n",
      "    tu <- pred$pred + 1.96 * pred$se\n",
      "    ts.plot(AirPassengers, 10^tl, 10^tu, log = \"y\", lty = c(1, 2, 2))\n",
      "    ## full ML fit is the same if the series is reversed, CSS fit is not\n",
      "    ap0 <- rev(log10(AirPassengers))\n",
      "    attributes(ap0) <- attributes(AirPassengers)\n",
      "    arima(ap0, c(0, 1, 1), seasonal = list(order = c(0, 1, 1), period = 12))\n",
      "    arima(ap0, c(0, 1, 1), seasonal = list(order = c(0, 1, 1), period = 12),\n",
      "          method = \"CSS\")\n",
      "    ## Structural Time Series\n",
      "    ap <- log10(AirPassengers) - 2\n",
      "    (fit <- StructTS(ap, type = \"BSM\"))\n",
      "    par(mfrow = c(1, 2))\n",
      "    plot(cbind(ap, fitted(fit)), plot.type = \"single\")\n",
      "    plot(cbind(ap, tsSmooth(fit)), plot.type = \"single\")\n",
      "    ## End(Not run)\n",
      "\n",
      "\n"
     ]
    }
   ],
   "source": [
    "pydataset.data('AirPassengers', show_doc=True)"
   ]
  },
  {
   "cell_type": "code",
   "execution_count": null,
   "metadata": {},
   "outputs": [],
   "source": []
  },
  {
   "cell_type": "code",
   "execution_count": null,
   "metadata": {},
   "outputs": [],
   "source": []
  }
 ],
 "metadata": {
  "kernelspec": {
   "display_name": "Python 3",
   "language": "python",
   "name": "python3"
  },
  "language_info": {
   "codemirror_mode": {
    "name": "ipython",
    "version": 3
   },
   "file_extension": ".py",
   "mimetype": "text/x-python",
   "name": "python",
   "nbconvert_exporter": "python",
   "pygments_lexer": "ipython3",
   "version": "3.7.6"
  }
 },
 "nbformat": 4,
 "nbformat_minor": 4
}
